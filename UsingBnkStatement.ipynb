{
 "cells": [
  {
   "cell_type": "markdown",
   "metadata": {},
   "source": [
    "# Importing the needed libraries and files"
   ]
  },
  {
   "cell_type": "code",
   "execution_count": null,
   "metadata": {},
   "outputs": [],
   "source": [
    "import openai,files,fitz\n",
    "from PyPDF2 import PdfReader, PdfWriter"
   ]
  },
  {
   "cell_type": "code",
   "execution_count": null,
   "metadata": {},
   "outputs": [],
   "source": [
    "openai.api_key = files.openaikey"
   ]
  },
  {
   "cell_type": "markdown",
   "metadata": {},
   "source": [
    "opening with fitz"
   ]
  },
  {
   "cell_type": "code",
   "execution_count": null,
   "metadata": {},
   "outputs": [],
   "source": [
    "doc = fitz.open(files.bnk)\n",
    "doc.authenticate(files.password)\n",
    "new=fitz.open()\n",
    "page_number = 0  \n",
    "text = doc[page_number].get_text()"
   ]
  },
  {
   "cell_type": "markdown",
   "metadata": {},
   "source": [
    "authenticating... with pypdf2"
   ]
  },
  {
   "cell_type": "code",
   "execution_count": null,
   "metadata": {},
   "outputs": [],
   "source": [
    "reader = PdfReader(files.bnk)\n",
    "writer = PdfWriter()\n",
    "\n",
    "if reader.is_encrypted:\n",
    "    reader.decrypt(files.password)\n",
    "\n",
    "for page in reader.pages:\n",
    "    writer.add_page(page)\n",
    "\n",
    "# Save the new PDF to a file\n",
    "with open(\"decrypted-pdf.pdf\", \"wb\") as f:\n",
    "    writer.write(f)"
   ]
  },
  {
   "cell_type": "markdown",
   "metadata": {},
   "source": [
    "Extracting the confidential data from the text"
   ]
  },
  {
   "cell_type": "code",
   "execution_count": null,
   "metadata": {},
   "outputs": [],
   "source": [
    "page = reader.pages[0]\n",
    "extracted_text = page.extract_text()\n",
    "# print(extracted_text)\n",
    "original_entities = {}\n",
    "for line in extracted_text.split('\\n'):\n",
    "    if ':' in line:\n",
    "        try:\n",
    "            key, value = line.split(':')\n",
    "            original_entities[key.strip()] = value.strip()\n",
    "        except ValueError:\n",
    "            pass\n"
   ]
  },
  {
   "cell_type": "code",
   "execution_count": null,
   "metadata": {},
   "outputs": [],
   "source": [
    "original_entities"
   ]
  },
  {
   "cell_type": "markdown",
   "metadata": {},
   "source": [
    "Creating a dictionary to store original data and synthetic data correspondence\n"
   ]
  },
  {
   "cell_type": "code",
   "execution_count": null,
   "metadata": {},
   "outputs": [],
   "source": [
    "correspondence_dict = {}"
   ]
  },
  {
   "cell_type": "markdown",
   "metadata": {},
   "source": [
    "generating synthetic data"
   ]
  },
  {
   "cell_type": "code",
   "execution_count": null,
   "metadata": {},
   "outputs": [],
   "source": [
    "for entity_type,entity in original_entities.items():\n",
    "    prompt1 = f\"Generate a synthetic replacement for the {entity_type.lower()}: '{entity}'.\"\n",
    "    response = openai.Completion.create(\n",
    "        engine=\"text-davinci-003\",\n",
    "        prompt=prompt1,\n",
    "        max_tokens=20\n",
    "    )\n",
    "    synthetic_data = response.choices[0].text.strip()\n",
    "    correspondence_dict[entity] = synthetic_data"
   ]
  },
  {
   "cell_type": "code",
   "execution_count": null,
   "metadata": {},
   "outputs": [],
   "source": [
    "correspondence_dict"
   ]
  },
  {
   "cell_type": "markdown",
   "metadata": {},
   "source": [
    "Masking the original text information"
   ]
  },
  {
   "cell_type": "code",
   "execution_count": null,
   "metadata": {},
   "outputs": [],
   "source": [
    "masked_text = text\n"
   ]
  },
  {
   "cell_type": "code",
   "execution_count": null,
   "metadata": {},
   "outputs": [],
   "source": [
    "masked_text"
   ]
  },
  {
   "cell_type": "code",
   "execution_count": null,
   "metadata": {},
   "outputs": [],
   "source": [
    "for org_data, syn_data in correspondence_dict.items():\n",
    "    masked_text = masked_text.replace(org_data, syn_data)"
   ]
  },
  {
   "cell_type": "markdown",
   "metadata": {},
   "source": [
    "saving to pdf"
   ]
  },
  {
   "cell_type": "code",
   "execution_count": null,
   "metadata": {},
   "outputs": [],
   "source": [
    "modified_image = doc[page_number].get_pixmap(matrix=fitz.Matrix(1, 1), clip=doc[page_number].rect, alpha=False)\n",
    "new_page = new.new_page(width=doc[page_number].rect.width, height=doc[page_number].rect.height)\n",
    "new_page.insert_text((10, 10),masked_text)\n",
    "new.save('modified_document.pdf')"
   ]
  },
  {
   "cell_type": "code",
   "execution_count": null,
   "metadata": {},
   "outputs": [],
   "source": [
    "doc.close()\n",
    "new.close()"
   ]
  },
  {
   "cell_type": "markdown",
   "metadata": {},
   "source": [
    "# Unmasking"
   ]
  },
  {
   "cell_type": "code",
   "execution_count": null,
   "metadata": {},
   "outputs": [],
   "source": [
    "doc = fitz.open('modified_document.pdf')\n",
    "# doc.authenticate(files.password)\n",
    "new=fitz.open()\n",
    "page_number = 0  \n",
    "text = doc[page_number].get_text()"
   ]
  },
  {
   "cell_type": "code",
   "execution_count": null,
   "metadata": {},
   "outputs": [],
   "source": [
    "unmasked_text = text\n",
    "for org_data, syn_data in correspondence_dict.items():\n",
    "   unmasked_text = unmasked_text.replace(syn_data,org_data)"
   ]
  },
  {
   "cell_type": "code",
   "execution_count": null,
   "metadata": {},
   "outputs": [],
   "source": [
    "modified_image = doc[page_number].get_pixmap(matrix=fitz.Matrix(1, 1), clip=doc[page_number].rect, alpha=False)\n",
    "new_page = new.new_page(width=doc[page_number].rect.width, height=doc[page_number].rect.height)\n",
    "new_page.insert_text((10, 10),unmasked_text, fontname=\"helv\", fontsize=12)\n",
    "new.save('unmasked.pdf')"
   ]
  }
 ],
 "metadata": {
  "kernelspec": {
   "display_name": "Python 3",
   "language": "python",
   "name": "python3"
  },
  "language_info": {
   "codemirror_mode": {
    "name": "ipython",
    "version": 3
   },
   "file_extension": ".py",
   "mimetype": "text/x-python",
   "name": "python",
   "nbconvert_exporter": "python",
   "pygments_lexer": "ipython3",
   "version": "3.9.13"
  },
  "orig_nbformat": 4
 },
 "nbformat": 4,
 "nbformat_minor": 2
}
