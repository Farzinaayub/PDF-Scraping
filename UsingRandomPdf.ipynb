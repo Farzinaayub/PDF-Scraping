{
 "cells": [
  {
   "cell_type": "code",
   "execution_count": null,
   "metadata": {},
   "outputs": [],
   "source": [
    "import openai,files,fitz"
   ]
  },
  {
   "cell_type": "code",
   "execution_count": null,
   "metadata": {},
   "outputs": [],
   "source": [
    "openai.api_key = files.openaikey"
   ]
  },
  {
   "cell_type": "markdown",
   "metadata": {},
   "source": [
    "# Masking"
   ]
  },
  {
   "cell_type": "markdown",
   "metadata": {},
   "source": [
    "authenticating..."
   ]
  },
  {
   "cell_type": "code",
   "execution_count": null,
   "metadata": {},
   "outputs": [],
   "source": [
    "doc = fitz.open(files.pdf_path)\n",
    "doc.authenticate(files.password)\n",
    "new=fitz.open()\n",
    "page_number = 0  \n",
    "text = doc[page_number].get_text()"
   ]
  },
  {
   "cell_type": "markdown",
   "metadata": {},
   "source": [
    "Extracting the confidential data from the text"
   ]
  },
  {
   "cell_type": "code",
   "execution_count": null,
   "metadata": {},
   "outputs": [],
   "source": [
    "def ner(input_text):\n",
    "    response = openai.Completion.create(\n",
    "        model=\"text-davinci-003\",\n",
    "        prompt=f\"Extract the entities from the text with labels name,emailid,phone number,password,account number\\ntext: Ram's email is Ram2267@example.com and his phone number is 1234567890. His Account number is A11d345. Ram has a younger sister names Saaya\\n\\nId:1\\nRam:name\\nRam2267@example.com:Email\\n1234567890:phone number\\nnull:Password\\nA11d345:Account number\\n##\\ntext: Anu's email is anu88@example.com and her phone number is 9999834521. Hes Account number is B54ERop\\n\\nId:2\\nAnu:Name\\nanu88@example.com:Email\\n9999834521:phone number\\nnull:Password\\nB54ERop:Account number\\n##\\ntext:{input_text}\\n\",\n",
    "        temperature=0.02,\n",
    "        max_tokens=256,\n",
    "        top_p=1,\n",
    "        frequency_penalty=0,\n",
    "        presence_penalty=0\n",
    "    )\n",
    "    extracted_text = response['choices'][0]['text']\n",
    "\n",
    "    # Extract the entities from the extracted text and create a dictionary\n",
    "    entities = {}\n",
    "    # print(extracted_text)\n",
    "    for line in extracted_text.split('\\n'):\n",
    "        if ':' in line:\n",
    "            key, value = line.split(':')\n",
    "            entities[key.strip()] = value.strip()\n",
    "\n",
    "    return entities"
   ]
  },
  {
   "cell_type": "code",
   "execution_count": null,
   "metadata": {},
   "outputs": [],
   "source": [
    "original_entities = ner(text)\n",
    "original_entities"
   ]
  },
  {
   "cell_type": "markdown",
   "metadata": {},
   "source": [
    "Creating a dictionary to store original data and synthetic data correspondence\n"
   ]
  },
  {
   "cell_type": "code",
   "execution_count": null,
   "metadata": {},
   "outputs": [],
   "source": [
    "correspondence_dict = {}"
   ]
  },
  {
   "cell_type": "markdown",
   "metadata": {},
   "source": [
    "generating synthetic data"
   ]
  },
  {
   "cell_type": "code",
   "execution_count": null,
   "metadata": {},
   "outputs": [],
   "source": [
    "for entity, entity_type in original_entities.items():\n",
    "    prompt1 = f\"Generate a synthetic replacement for the {entity_type.lower()}: '{entity}'.\"\n",
    "    response = openai.Completion.create(\n",
    "        engine=\"text-davinci-003\",\n",
    "        prompt=prompt1,\n",
    "        max_tokens=50\n",
    "    )\n",
    "    synthetic_data = response.choices[0].text.strip()\n",
    "    correspondence_dict[entity] = synthetic_data"
   ]
  },
  {
   "cell_type": "code",
   "execution_count": null,
   "metadata": {},
   "outputs": [],
   "source": [
    "correspondence_dict"
   ]
  },
  {
   "cell_type": "markdown",
   "metadata": {},
   "source": [
    "Masking the original text information"
   ]
  },
  {
   "cell_type": "code",
   "execution_count": null,
   "metadata": {},
   "outputs": [],
   "source": [
    "masked_text = text\n",
    "for org_data, syn_data in correspondence_dict.items():\n",
    "    masked_text = masked_text.replace(org_data, syn_data)"
   ]
  },
  {
   "cell_type": "code",
   "execution_count": null,
   "metadata": {},
   "outputs": [],
   "source": [
    "masked_text"
   ]
  },
  {
   "cell_type": "markdown",
   "metadata": {},
   "source": [
    "saving to pdf"
   ]
  },
  {
   "cell_type": "code",
   "execution_count": null,
   "metadata": {},
   "outputs": [],
   "source": [
    "modified_image = doc[page_number].get_pixmap(matrix=fitz.Matrix(1, 1), clip=doc[page_number].rect, alpha=False)\n",
    "new_page = new.new_page(width=doc[page_number].rect.width, height=doc[page_number].rect.height)\n",
    "new_page.insert_text((10, 10),masked_text, fontname=\"helv\", fontsize=12)\n",
    "new.save('masked.pdf')"
   ]
  },
  {
   "cell_type": "code",
   "execution_count": null,
   "metadata": {},
   "outputs": [],
   "source": [
    "doc.close()\n",
    "new.close()"
   ]
  },
  {
   "cell_type": "markdown",
   "metadata": {},
   "source": [
    "# Unmasking"
   ]
  },
  {
   "cell_type": "code",
   "execution_count": null,
   "metadata": {},
   "outputs": [],
   "source": [
    "doc = fitz.open('masked.pdf')\n",
    "# doc.authenticate(files.password)\n",
    "new=fitz.open()\n",
    "page_number = 0  \n",
    "text = doc[page_number].get_text()"
   ]
  },
  {
   "cell_type": "code",
   "execution_count": null,
   "metadata": {},
   "outputs": [],
   "source": [
    "text"
   ]
  },
  {
   "cell_type": "code",
   "execution_count": null,
   "metadata": {},
   "outputs": [],
   "source": [
    "unmasked_text = text\n",
    "for org_data, syn_data in correspondence_dict.items():\n",
    "   unmasked_text = unmasked_text.replace(syn_data,org_data)"
   ]
  },
  {
   "cell_type": "code",
   "execution_count": null,
   "metadata": {},
   "outputs": [],
   "source": [
    "unmasked_text"
   ]
  },
  {
   "cell_type": "code",
   "execution_count": null,
   "metadata": {},
   "outputs": [],
   "source": [
    "modified_image = doc[page_number].get_pixmap(matrix=fitz.Matrix(1, 1), clip=doc[page_number].rect, alpha=False)\n",
    "new_page = new.new_page(width=doc[page_number].rect.width, height=doc[page_number].rect.height)\n",
    "new_page.insert_text((10, 10),unmasked_text, fontname=\"helv\", fontsize=12)\n",
    "new.save('unmasked.pdf')"
   ]
  },
  {
   "cell_type": "code",
   "execution_count": null,
   "metadata": {},
   "outputs": [],
   "source": []
  }
 ],
 "metadata": {
  "kernelspec": {
   "display_name": "Python 3",
   "language": "python",
   "name": "python3"
  },
  "language_info": {
   "codemirror_mode": {
    "name": "ipython",
    "version": 3
   },
   "file_extension": ".py",
   "mimetype": "text/x-python",
   "name": "python",
   "nbconvert_exporter": "python",
   "pygments_lexer": "ipython3",
   "version": "3.9.13"
  },
  "orig_nbformat": 4
 },
 "nbformat": 4,
 "nbformat_minor": 2
}
